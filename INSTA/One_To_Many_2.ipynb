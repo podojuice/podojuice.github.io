{
 "cells": [
  {
   "cell_type": "markdown",
   "metadata": {},
   "source": [
    "# One To Many model\n",
    "\n",
    "## Writer\n",
    "\n",
    "| id (PK)    | name      |\n",
    "| ------ | --------- |\n",
    "|INT | CharField |\n",
    "\n",
    "## Book\n",
    "\n",
    "| id  (PK)   | author_id  (FK)        | title     | description |\n",
    "| ------ | --------------- | --------- | ----------- |\n",
    "|INT |  Writer, INT | CharField | TextField   |\n",
    "\n",
    "## Chapter\n",
    "\n",
    "| id   (PK)  | book_id  (FK)     | title     | description |\n",
    "| ------ | ------------- | --------- | ----------- |\n",
    "| INT |  Book, INT | ChatField | TextField   |\n"
   ]
  },
  {
   "cell_type": "code",
   "execution_count": 1,
   "metadata": {},
   "outputs": [
    {
     "data": {
      "text/plain": [
       "<Writer: Writer object (4)>"
      ]
     },
     "execution_count": 1,
     "metadata": {},
     "output_type": "execute_result"
    }
   ],
   "source": [
    "Writer.objects.create(name='이선')"
   ]
  },
  {
   "cell_type": "code",
   "execution_count": 3,
   "metadata": {},
   "outputs": [
    {
     "data": {
      "text/plain": [
       "<Book: Book object (3)>"
      ]
     },
     "execution_count": 3,
     "metadata": {},
     "output_type": "execute_result"
    }
   ],
   "source": [
    "Book.objects.create(\n",
    "    title='러닝 자바스크립트',\n",
    "    description = 'ES6로 제대로 입문하는 모던 자바스크립트 웹 개발',\n",
    "    author = Writer.objects.get(name='이선')\n",
    ")"
   ]
  },
  {
   "cell_type": "code",
   "execution_count": 4,
   "metadata": {},
   "outputs": [
    {
     "data": {
      "text/plain": [
       "<Book: Book object (4)>"
      ]
     },
     "execution_count": 4,
     "metadata": {},
     "output_type": "execute_result"
    }
   ],
   "source": [
    "Book.objects.create(\n",
    "    title='러닝 파이썬',\n",
    "    description = 'ES6로 제대로 입문하는 모던 파이썬 웹 개발',\n",
    "    author = Writer.objects.get(name='이선')\n",
    ")"
   ]
  },
  {
   "cell_type": "code",
   "execution_count": 5,
   "metadata": {},
   "outputs": [
    {
     "data": {
      "text/plain": [
       "<Chapter: Chapter object (4)>"
      ]
     },
     "execution_count": 5,
     "metadata": {},
     "output_type": "execute_result"
    }
   ],
   "source": [
    "Chapter.objects.create(\n",
    "    book = Book.objects.get(id=3),\n",
    "    title = 'first app',\n",
    "    description = '시작은 브라우저에서'\n",
    ")\n",
    "\n",
    "Chapter.objects.create(\n",
    "    book = Book.objects.get(id=3),\n",
    "    title = '개발도구',\n",
    "    description = '트랜스컴파일러'\n",
    ")\n",
    "\n",
    "Chapter.objects.create(\n",
    "    book = Book.objects.get(id=4),\n",
    "    title = 'Python 기초 문법',\n",
    "    description = '변수, 문자열, 숫자, 참/거짓',\n",
    ")\n",
    "\n",
    "Chapter.objects.create(\n",
    "    book = Book.objects.get(id=3),\n",
    "    title = 'Python 자료 구조',\n",
    "    description = '리스트, 딕셔너리, 튜플, 세트',\n",
    ")"
   ]
  },
  {
   "cell_type": "markdown",
   "metadata": {},
   "source": []
  },
  {
   "cell_type": "code",
   "execution_count": null,
   "metadata": {},
   "outputs": [],
   "source": [
    "# 딕셔너리라는 챕터 설명이 있는 책의 저자가 쓴 모든 책을 찾아보자."
   ]
  },
  {
   "cell_type": "code",
   "execution_count": 26,
   "metadata": {},
   "outputs": [
    {
     "data": {
      "text/plain": [
       "<QuerySet [<Book: Book object (3)>, <Book: Book object (4)>]>"
      ]
     },
     "execution_count": 26,
     "metadata": {},
     "output_type": "execute_result"
    }
   ],
   "source": [
    "A = Book.objects.filter(author = Chapter.objects.filter(description__contains = '딕셔너리')[0].book.author)\n",
    "B = Chapter.objects.filter(description__contains = '딕셔너리')[0].book.author.book_set.all()"
   ]
  },
  {
   "cell_type": "code",
   "execution_count": 27,
   "metadata": {},
   "outputs": [
    {
     "name": "stdout",
     "output_type": "stream",
     "text": [
      "러닝 자바스크립트\n",
      "러닝 파이썬\n",
      "러닝 자바스크립트\n",
      "러닝 파이썬\n"
     ]
    }
   ],
   "source": [
    "for book in A:\n",
    "    print(book.title)\n",
    "\n",
    "for book in B:\n",
    "    print(book.title)"
   ]
  },
  {
   "cell_type": "code",
   "execution_count": 20,
   "metadata": {},
   "outputs": [],
   "source": [
    "# 책들 중 DB에 2019년에 등록된 모든 책들 중에서 OFFSET 2, LIMIT 3"
   ]
  },
  {
   "cell_type": "code",
   "execution_count": 37,
   "metadata": {},
   "outputs": [
    {
     "name": "stdout",
     "output_type": "stream",
     "text": [
      "우리들의 일그러진 영웅\n",
      "삼국지\n",
      "러닝 자바스크립트\n",
      "러닝 파이썬\n"
     ]
    }
   ],
   "source": [
    "for a in range(1, len(Book.objects.all())+1):\n",
    "    if Book.objects.get(id=a).created.year == 2019:\n",
    "        print(Book.objects.get(id=a).title)"
   ]
  },
  {
   "cell_type": "code",
   "execution_count": 43,
   "metadata": {},
   "outputs": [],
   "source": [
    "a = Book.objects.get(id=1)"
   ]
  },
  {
   "cell_type": "code",
   "execution_count": 46,
   "metadata": {},
   "outputs": [
    {
     "data": {
      "text/plain": [
       "2019"
      ]
     },
     "execution_count": 46,
     "metadata": {},
     "output_type": "execute_result"
    }
   ],
   "source": [
    "a.created.year"
   ]
  },
  {
   "cell_type": "code",
   "execution_count": 55,
   "metadata": {},
   "outputs": [
    {
     "data": {
      "text/plain": [
       "'러닝 자바스크립트'"
      ]
     },
     "execution_count": 55,
     "metadata": {},
     "output_type": "execute_result"
    }
   ],
   "source": [
    "Book.objects.filter(created__year=2019)[2:3][0].title"
   ]
  },
  {
   "cell_type": "code",
   "execution_count": 49,
   "metadata": {},
   "outputs": [
    {
     "data": {
      "text/plain": [
       "<QuerySet []>"
      ]
     },
     "execution_count": 49,
     "metadata": {},
     "output_type": "execute_result"
    }
   ],
   "source": [
    "Book.objects.filter(created__year__gt=2019) #gt == greater than"
   ]
  }
 ],
 "metadata": {
  "kernelspec": {
   "display_name": "Django Shell-Plus",
   "language": "python",
   "name": "django_extensions"
  },
  "language_info": {
   "codemirror_mode": {
    "name": "ipython",
    "version": 3
   },
   "file_extension": ".py",
   "mimetype": "text/x-python",
   "name": "python",
   "nbconvert_exporter": "python",
   "pygments_lexer": "ipython3",
   "version": "3.7.3"
  }
 },
 "nbformat": 4,
 "nbformat_minor": 2
}
