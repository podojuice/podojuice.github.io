{
 "cells": [
  {
   "cell_type": "markdown",
   "metadata": {},
   "source": [
    "# One To Many model\n",
    "\n",
    "## Writer\n",
    "\n",
    "| id (PK)    | name      |\n",
    "| ------ | --------- |\n",
    "|INT | CharField |\n",
    "\n",
    "## Book\n",
    "\n",
    "| id  (PK)   | author_id  (FK)        | title     | description |\n",
    "| ------ | --------------- | --------- | ----------- |\n",
    "|INT |  Writer, INT | CharField | TextField   |\n",
    "\n",
    "## Chapter\n",
    "\n",
    "| id   (PK)  | book_id  (FK)     | title     | description |\n",
    "| ------ | ------------- | --------- | ----------- |\n",
    "| INT |  Book, INT | ChatField | TextField   |\n"
   ]
  },
  {
   "cell_type": "raw",
   "metadata": {},
   "source": []
  },
  {
   "cell_type": "code",
   "execution_count": null,
   "metadata": {},
   "outputs": [],
   "source": []
  }
 ],
 "metadata": {
  "kernelspec": {
   "display_name": "Django Shell-Plus",
   "language": "python",
   "name": "django_extensions"
  },
  "language_info": {
   "codemirror_mode": {
    "name": "ipython",
    "version": 3
   },
   "file_extension": ".py",
   "mimetype": "text/x-python",
   "name": "python",
   "nbconvert_exporter": "python",
   "pygments_lexer": "ipython3",
   "version": "3.7.3"
  }
 },
 "nbformat": 4,
 "nbformat_minor": 2
}
